{
 "cells": [
  {
   "cell_type": "code",
   "execution_count": 4,
   "metadata": {},
   "outputs": [
    {
     "name": "stdout",
     "output_type": "stream",
     "text": [
      "Pass\n",
      "Pass\n"
     ]
    }
   ],
   "source": [
    "def rearrange_digits(input_list):\n",
    "    \"\"\"\n",
    "    Rearrange Array Elements so as to form two number such that their sum is maximum.\n",
    "\n",
    "    Args:\n",
    "       input_list(list): Input List\n",
    "    Returns:\n",
    "       (int),(int): Two maximum sums\n",
    "    \"\"\"\n",
    "    def merge(list1, list2):\n",
    "        length1 = len(list1)\n",
    "        length2 = len(list2)\n",
    "        length = length1 + length2\n",
    "        output = []\n",
    "        index1 = 0\n",
    "        index2 = 0\n",
    "        for i in range(length):\n",
    "            if list1[index1] < list2[index2]:\n",
    "                output.append(list2[index2])\n",
    "                index2 += 1\n",
    "            else:\n",
    "                output.append(list1[index1])\n",
    "                index1 += 1\n",
    "            \n",
    "            if index1 == length1:\n",
    "                output = output + list2[index2:]\n",
    "                break\n",
    "            if index2 == length2:\n",
    "                output = output + list1[index1:]\n",
    "                break\n",
    "        return output\n",
    "    \n",
    "    def merge_sort(input_list):\n",
    "        # sort a list into decending form\n",
    "        if len(input_list) <= 1:\n",
    "            return input_list\n",
    "        \n",
    "        mid = len(input_list) // 2\n",
    "        \n",
    "        # \n",
    "        left_list = merge_sort(input_list[0:mid])\n",
    "        right_list = merge_sort(input_list[mid:])\n",
    "        \n",
    "        return merge(left_list, right_list)\n",
    "    \n",
    "    first_num = 0\n",
    "    second_num = 0\n",
    "    switch = 0\n",
    "    for digit in merge_sort(input_list):\n",
    "        if switch == 0:\n",
    "            first_num = first_num*10 + digit\n",
    "            switch = 1\n",
    "        else:\n",
    "            second_num = second_num*10 + digit\n",
    "            switch = 0\n",
    "    return first_num, second_num\n",
    "\n",
    "def test_function(test_case):\n",
    "    output = rearrange_digits(test_case[0])\n",
    "    solution = test_case[1]\n",
    "    if sum(output) == sum(solution):\n",
    "        print(\"Pass\")\n",
    "    else:\n",
    "        print(\"Fail\")\n",
    "\n",
    "test_function([[1, 2, 3, 4, 5], [542, 31]])\n",
    "test_case = [[4, 6, 2, 5, 9, 8], [964, 852]]\n",
    "test_function(test_case)"
   ]
  },
  {
   "cell_type": "code",
   "execution_count": null,
   "metadata": {},
   "outputs": [],
   "source": []
  }
 ],
 "metadata": {
  "kernelspec": {
   "display_name": "Python 3",
   "language": "python",
   "name": "python3"
  },
  "language_info": {
   "codemirror_mode": {
    "name": "ipython",
    "version": 3
   },
   "file_extension": ".py",
   "mimetype": "text/x-python",
   "name": "python",
   "nbconvert_exporter": "python",
   "pygments_lexer": "ipython3",
   "version": "3.7.6"
  }
 },
 "nbformat": 4,
 "nbformat_minor": 4
}
