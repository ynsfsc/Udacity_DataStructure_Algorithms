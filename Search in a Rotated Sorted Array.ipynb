{
 "cells": [
  {
   "cell_type": "code",
   "execution_count": 35,
   "metadata": {},
   "outputs": [],
   "source": [
    "def rotated_array_search(input_list, number):\n",
    "    \"\"\"\n",
    "    Find the index by searching in a rotated sorted array\n",
    "\n",
    "    Args:\n",
    "       input_list(array), number(int): Input array to search and the target\n",
    "    Returns:\n",
    "       int: Index or -1\n",
    "    \"\"\"\n",
    "    def pivot(input_list, left, right):\n",
    "        # get the pivot index(the smallest element index)\n",
    "        if right - left == 0:\n",
    "            return left\n",
    "        if right - left == 1:\n",
    "            return left if input_list[left] < input_list[right] else right\n",
    "        \n",
    "        mid = (right - left) // 2 + left\n",
    "        if input_list[mid] > input_list[right]:\n",
    "            return pivot(input_list, mid + 1, right)\n",
    "        if input_list[mid] < input_list[right]:\n",
    "            return pivot(input_list, left, mid)\n",
    "    \n",
    "    def search(input_list, number, left, right):\n",
    "        # search number in a sorted array\n",
    "        if left > right:\n",
    "            return -1\n",
    "        \n",
    "        mid = (right - left) // 2 + left\n",
    "        if input_list[mid] == number:\n",
    "            return mid\n",
    "        if input_list[mid] < number:\n",
    "            return search(input_list, number, mid + 1, right)\n",
    "        \n",
    "        return search(input_list, number, left, mid - 1)\n",
    "    \n",
    "    length = len(input_list)\n",
    "    pivot = pivot(input_list, 0, length - 1)\n",
    "    # if no pivot\n",
    "    if pivot == 0:\n",
    "        output = search(input_list, number, 0, length - 1)\n",
    "    # if pivot\n",
    "    else:\n",
    "        if input_list[0] > number:\n",
    "            output = search(input_list, number, pivot, length - 1)\n",
    "        else:\n",
    "            output = search(input_list, number, 0, pivot)\n",
    "    return output\n",
    "\n",
    "def linear_search(input_list, number):\n",
    "    for index, element in enumerate(input_list):\n",
    "        if element == number:\n",
    "            return index\n",
    "    return -1"
   ]
  },
  {
   "cell_type": "code",
   "execution_count": 36,
   "metadata": {},
   "outputs": [
    {
     "name": "stdout",
     "output_type": "stream",
     "text": [
      "Pass\n",
      "Pass\n",
      "Pass\n",
      "Pass\n",
      "Pass\n",
      "Pass\n"
     ]
    }
   ],
   "source": [
    "def test_function(test_case):\n",
    "    input_list = test_case[0]\n",
    "    number = test_case[1]\n",
    "    if linear_search(input_list, number) == rotated_array_search(input_list, number):\n",
    "        print(\"Pass\")\n",
    "    else:\n",
    "        print(\"Fail\")\n",
    "\n",
    "test_function([[6, 7, 8, 9, 10, 1, 2, 3, 4], 6])\n",
    "test_function([[6, 7, 8, 9, 10, 1, 2, 3, 4], 1])\n",
    "test_function([[6, 7, 8, 1, 2, 3, 4], 8])\n",
    "test_function([[6, 7, 8, 1, 2, 3, 4], 1])\n",
    "test_function([[6, 7, 8, 1, 2, 3, 4], 10])\n",
    "test_function([[1, 2, 3, 4, 5, 6, 7, 8, 9, 10, 11], 2])"
   ]
  },
  {
   "cell_type": "code",
   "execution_count": null,
   "metadata": {},
   "outputs": [],
   "source": []
  }
 ],
 "metadata": {
  "kernelspec": {
   "display_name": "Python 3",
   "language": "python",
   "name": "python3"
  },
  "language_info": {
   "codemirror_mode": {
    "name": "ipython",
    "version": 3
   },
   "file_extension": ".py",
   "mimetype": "text/x-python",
   "name": "python",
   "nbconvert_exporter": "python",
   "pygments_lexer": "ipython3",
   "version": "3.7.6"
  }
 },
 "nbformat": 4,
 "nbformat_minor": 4
}
