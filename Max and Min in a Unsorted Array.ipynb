{
 "cells": [
  {
   "cell_type": "code",
   "execution_count": 4,
   "metadata": {},
   "outputs": [],
   "source": [
    "def get_min_max(ints):\n",
    "    \"\"\"\n",
    "    Return a tuple(min, max) out of list of unsorted integers.\n",
    "\n",
    "    Args:\n",
    "       ints(list): list of integers containing one or more integers\n",
    "    \"\"\"\n",
    "    min = ints[0]\n",
    "    max = ints[0]\n",
    "    for element in ints:\n",
    "        if element > max:\n",
    "            max = element\n",
    "        if element < min:\n",
    "            min = element\n",
    "    return min, max\n"
   ]
  },
  {
   "cell_type": "code",
   "execution_count": 9,
   "metadata": {},
   "outputs": [
    {
     "name": "stdout",
     "output_type": "stream",
     "text": [
      "Pass\n",
      "Pass\n",
      "Pass\n",
      "Pass\n"
     ]
    }
   ],
   "source": [
    "\n",
    "## Example Test Case of Ten Integers\n",
    "import random\n",
    "\n",
    "l = [i for i in range(0, 10)]  # a list containing 0 - 9\n",
    "random.shuffle(l)\n",
    "\n",
    "print (\"Pass\" if ((0, 9) == get_min_max(l)) else \"Fail\")\n",
    "\n",
    "l = [i for i in range(0, 1000)]  # a list containing 0 - 999\n",
    "random.shuffle(l)\n",
    "\n",
    "print (\"Pass\" if ((0, 999) == get_min_max(l)) else \"Fail\")\n",
    "\n",
    "l = [0]  # a list containing only\n",
    "\n",
    "print (\"Pass\" if ((0, 0) == get_min_max(l)) else \"Fail\")\n",
    "\n",
    "l = [0, 1]  # a list containing only\n",
    "\n",
    "print (\"Pass\" if ((0, 1) == get_min_max(l)) else \"Fail\")"
   ]
  },
  {
   "cell_type": "code",
   "execution_count": null,
   "metadata": {},
   "outputs": [],
   "source": []
  }
 ],
 "metadata": {
  "kernelspec": {
   "display_name": "Python 3",
   "language": "python",
   "name": "python3"
  },
  "language_info": {
   "codemirror_mode": {
    "name": "ipython",
    "version": 3
   },
   "file_extension": ".py",
   "mimetype": "text/x-python",
   "name": "python",
   "nbconvert_exporter": "python",
   "pygments_lexer": "ipython3",
   "version": "3.7.6"
  }
 },
 "nbformat": 4,
 "nbformat_minor": 4
}
